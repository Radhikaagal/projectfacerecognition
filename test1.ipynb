{
  "nbformat": 4,
  "nbformat_minor": 0,
  "metadata": {
    "colab": {
      "name": "test1.ipynb",
      "version": "0.3.2",
      "provenance": [],
      "collapsed_sections": [],
      "include_colab_link": true
    },
    "kernelspec": {
      "name": "python3",
      "display_name": "Python 3"
    },
    "accelerator": "TPU"
  },
  "cells": [
    {
      "cell_type": "markdown",
      "metadata": {
        "id": "view-in-github",
        "colab_type": "text"
      },
      "source": [
        "<a href=\"https://colab.research.google.com/github/Radhikaagal/projectfacerecognition/blob/master/test1.ipynb\" target=\"_parent\"><img src=\"https://colab.research.google.com/assets/colab-badge.svg\" alt=\"Open In Colab\"/></a>"
      ]
    },
    {
      "metadata": {
        "id": "JjrCfn05kHV1",
        "colab_type": "code",
        "outputId": "4a8e1e57-181a-4b35-e5d8-c91e2d170387",
        "colab": {
          "resources": {
            "http://localhost:8080/nbextensions/google.colab/files.js": {
              "data": "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",
              "ok": true,
              "headers": [
                [
                  "content-type",
                  "application/javascript"
                ]
              ],
              "status": 200,
              "status_text": ""
            }
          },
          "base_uri": "https://localhost:8080/",
          "height": 93
        }
      },
      "cell_type": "code",
      "source": [
        "from google.colab import files\n",
        "\n",
        "uploaded = files.upload()\n",
        "\n",
        "for fn in uploaded.keys():\n",
        "  print('User uploaded file \"{name}\" with length {length} bytes'.format(\n",
        "      name=fn, length=len(uploaded[fn])))\n",
        "  \n",
        " "
      ],
      "execution_count": 0,
      "outputs": [
        {
          "output_type": "display_data",
          "data": {
            "text/html": [
              "\n",
              "     <input type=\"file\" id=\"files-d09782cd-48e2-4b43-9505-3b9014927800\" name=\"files[]\" multiple disabled />\n",
              "     <output id=\"result-d09782cd-48e2-4b43-9505-3b9014927800\">\n",
              "      Upload widget is only available when the cell has been executed in the\n",
              "      current browser session. Please rerun this cell to enable.\n",
              "      </output>\n",
              "      <script src=\"/nbextensions/google.colab/files.js\"></script> "
            ],
            "text/plain": [
              "<IPython.core.display.HTML object>"
            ]
          },
          "metadata": {
            "tags": []
          }
        },
        {
          "output_type": "stream",
          "text": [
            "Saving dataset.zip to dataset.zip\n",
            "User uploaded file \"dataset.zip\" with length 16800298 bytes\n"
          ],
          "name": "stdout"
        }
      ]
    },
    {
      "metadata": {
        "id": "vT_MmtUsOBPE",
        "colab_type": "code",
        "colab": {}
      },
      "cell_type": "code",
      "source": [
        "import zipfile\n",
        "zip_ref= zipfile.ZipFile('dataset.zip','r')\n",
        "zip_ref.extractall()\n",
        "zip_ref.close()"
      ],
      "execution_count": 0,
      "outputs": []
    },
    {
      "metadata": {
        "id": "UpFdXMmInK0b",
        "colab_type": "code",
        "outputId": "770d99a9-3832-4679-9f1b-d4041e07eacb",
        "colab": {
          "base_uri": "https://localhost:8080/",
          "height": 85
        }
      },
      "cell_type": "code",
      "source": [
        "import patoolib\n",
        "patoolib.extract_archive(\"facedataset.tar.gz\", outdir=\".\")\n"
      ],
      "execution_count": 0,
      "outputs": [
        {
          "output_type": "stream",
          "text": [
            "patool: Extracting facedataset.tar.gz ...\n",
            "patool: running /bin/tar --extract -z --file facedataset.tar.gz --directory .\n",
            "patool: ... facedataset.tar.gz extracted to `.'.\n"
          ],
          "name": "stdout"
        },
        {
          "output_type": "execute_result",
          "data": {
            "text/plain": [
              "'.'"
            ]
          },
          "metadata": {
            "tags": []
          },
          "execution_count": 8
        }
      ]
    },
    {
      "metadata": {
        "id": "YlpANJ9Hn6mb",
        "colab_type": "code",
        "colab": {}
      },
      "cell_type": "code",
      "source": [
        "import os\n",
        "import pickle\n",
        "import cv2\n",
        "import matplotlib.pyplot as plt\n",
        "import numpy as np\n",
        "\n",
        "def create_data():\n",
        "  x=[]\n",
        "  y=[]\n",
        "  label=0\n",
        "  \n",
        "  Base_dir = os.path.dirname(os.path.abspath('__file__'))\n",
        "  data_dir = os.path.join(Base_dir,\"dataset\")\n",
        "  \n",
        "  for img_folder in os.listdir(data_dir):\n",
        "      image_file=os.path.join(data_dir,img_folder)\n",
        "      for file in os.listdir(image_file):\n",
        "          img_path=os.path.join(image_file,file)\n",
        "          img=cv2.imread(img_path,cv2.IMREAD_GRAYSCALE)/256\n",
        "          img=cv2.resize(img,(32,32))\n",
        "          img=img.reshape(32,32,1)\n",
        "          x.append(img)\n",
        "          y.append(label)\n",
        "      label=label+1\n",
        "  return x,y\n",
        "          \n",
        "x,y=create_data()\n",
        "np.save(\"xtrain.npy\",x)\n",
        "np.save(\"ytrain.npy\",y)"
      ],
      "execution_count": 0,
      "outputs": []
    },
    {
      "metadata": {
        "id": "hncYmiR-pc7R",
        "colab_type": "code",
        "outputId": "4c0d1522-6466-4854-81e8-a0b8c89b6dbd",
        "colab": {
          "base_uri": "https://localhost:8080/",
          "height": 54
        }
      },
      "cell_type": "code",
      "source": [
        "import numpy as np\n",
        "x=np.load(\"xtrain.npy\")\n",
        "y=np.load(\"ytrain.npy\")\n",
        "t_g = np.array([x[np.where(y==i)[0]] for i in np.unique(y)])# split the images of diffrent person\n",
        "print(t_g.shape)\n",
        "train = []\n",
        "# Function to check similarity\n",
        "def check_similarity(v):\n",
        "    el=[]\n",
        "    el.append(x[v[0]])\n",
        "    el.append(x[v[1]])\n",
        "    if y[v[0]]!=y[v[1]]:\n",
        "      el.append(0)\n",
        "    else:\n",
        "      el.append(1)\n",
        "    train.append(el)\n",
        "    \n",
        "# Function to generate only similar pair\n",
        "def generate_similar(t_g):\n",
        "   for i in range(0,50):\n",
        "      for j in range(800):\n",
        "        v=np.random.choice(len(t_g[i]),2)\n",
        "        if v[0]!=v[1]:\n",
        "          el2=[]\n",
        "          el2.append(t_g[i][v[0]])\n",
        "          el2.append(t_g[i][v[1]])\n",
        "          el2.append(1)\n",
        "          train.append(el2)\n",
        "\n",
        "# Function to generate pair of images with labels\n",
        "def generate_pair():\n",
        "  for i in range(1,50):\n",
        "    for j in range(1200): \n",
        "      v=np.random.choice(15*i,2)\n",
        "      if v[0]!=v[1]:\n",
        "        check_similarity(v)   \n",
        "  generate_similar(t_g)\n",
        "generate_pair()\n",
        "t=np.array(train)\n",
        "t.shape\n",
        "np.save(\"pair_data.npy\",t)\n",
        "m=np.where(t[:,-1]==1)\n",
        "print(len(t),len(m[0]))\n",
        "\n",
        "    \n"
      ],
      "execution_count": 0,
      "outputs": [
        {
          "output_type": "stream",
          "text": [
            "(50, 15, 32, 32, 1)\n",
            "95805 42501\n"
          ],
          "name": "stdout"
        }
      ]
    },
    {
      "metadata": {
        "id": "nNEo8APqtYex",
        "colab_type": "code",
        "outputId": "ddd4ffdb-6e06-4bd5-94a2-17b02a5e647f",
        "colab": {
          "base_uri": "https://localhost:8080/",
          "height": 34
        }
      },
      "cell_type": "code",
      "source": [
        "from random import shuffle\n",
        "import numpy as np\n",
        "Data=np.load(\"pair_data.npy\")\n",
        "shuffle(Data)\n",
        "x1=[]\n",
        "x2=[]\n",
        "y=[]\n",
        "\n",
        "for i in range(95805):\n",
        "  x1.append(Data[i][0])\n",
        "  x2.append(Data[i][1])\n",
        "  y.append(Data[i][2])\n",
        "\n",
        "x1=np.array(x1)\n",
        "x2=np.array(x2)\n",
        "y=np.array(y)\n",
        "\n",
        "np.save(\"x1.npy\",x1)\n",
        "np.save(\"x2.npy\",x2)\n",
        "np.save(\"y.npy\",y)\n",
        "\n",
        "X_train_data1=x1[:-38280]\n",
        "X_train_data2=x2[:-38280]\n",
        "Y_train_data=y[:-38280]\n",
        "\n",
        "X_test_data1=x1[-38280:-19140]\n",
        "X_test_data2=x2[-38280:-19140]\n",
        "Y_test_data=y[-38280:-19140]\n",
        "\n",
        "X_val_data1=x1[-19140:]\n",
        "X_val_data2=x2[-19140:]\n",
        "Y_val_data=y[-19140:]\n",
        "print(X_train_data1.shape)\n",
        "\n",
        "\n",
        "#Y_data=Data[:,-1]\n",
        "#X_data=Data[:,:-1]\n",
        "#X_train_data=X_data[:-38280]\n",
        "#Y_train_data=Y_data[:-38280]\n",
        "\n",
        "#X_test_data=X_data[-38280:-19140]\n",
        "#X_test_data=Y_data[-38280:-19140]\n",
        "\n",
        "#X_val_data=X_data[-19140:]\n",
        "#Y_val_data=Y_data[-19140:]\n",
        "\n"
      ],
      "execution_count": 0,
      "outputs": [
        {
          "output_type": "stream",
          "text": [
            "(57525, 32, 32, 1)\n"
          ],
          "name": "stdout"
        }
      ]
    },
    {
      "metadata": {
        "id": "kxlZ-Ut1VlX5",
        "colab_type": "code",
        "outputId": "15a05bdf-72df-4db6-a12a-5c64b0dbef2c",
        "colab": {
          "base_uri": "https://localhost:8080/",
          "height": 445
        }
      },
      "cell_type": "code",
      "source": [
        "import numpy as np\n",
        "import tensorflow as tf\n",
        "import keras\n",
        "from keras.engine.input_layer import Input\n",
        "from keras import backend as K\n",
        "from keras.models import Sequential, Model\n",
        "from keras.layers import Dense, Dropout, Flatten, Lambda\n",
        "from keras.layers import Conv2D, MaxPooling2D\n",
        "from keras.optimizers import SGD,Adam\n",
        "from keras.losses import binary_crossentropy\n",
        "\n",
        "def compute_accuracy(predictions, labels):\n",
        "    return labels[predictions.ravel() < 0.5].mean()\n",
        "\n",
        "def create_siamese_model(input_shape):\n",
        "  first_input = Input(input_shape)\n",
        "  second_input = Input(input_shape)\n",
        "  \n",
        "  model = Sequential()\n",
        "  model.add(Conv2D(32,(5,5),activation = 'relu', input_shape= input_shape))\n",
        "  model.add(MaxPooling2D(pool_size=(2,2)))\n",
        "  model.add(Dropout(0.25))\n",
        "  \n",
        "  model.add(Conv2D(64,(3,3),activation = 'relu'))\n",
        "  model.add(MaxPooling2D(pool_size=(2,2)))\n",
        "  model.add(Dropout(0.5))\n",
        "  \n",
        "  model.add(Conv2D(128,(2,2),activation = 'relu'))\n",
        "  model.add(MaxPooling2D(pool_size=(2,2)))\n",
        "  model.add(Dropout(0.25))\n",
        "  \n",
        "  model.add(Flatten())\n",
        "  \n",
        "  model.add(Dense(128, activation='sigmoid'))\n",
        "  \n",
        "  encoded_first = model(first_input)\n",
        "  encoded_second = model(second_input)\n",
        "  \n",
        "  L1_layer= Lambda(lambda f:K.abs(f[0]-f[1]))\n",
        "  L1_distance = L1_layer([encoded_first,encoded_second])\n",
        "  \n",
        "  pred = Dense(1,activation = 'sigmoid')(L1_distance)\n",
        "  \n",
        "  siamese_network = Model(input=[first_input, second_input], outputs=pred)\n",
        "  \n",
        "  return siamese_network\n",
        "\n",
        "mod= create_siamese_model((32,32,1))\n",
        "# print(X_train_data[:,0].shape)\n",
        "# mod.summary() \n",
        "batch_size = 5000\n",
        "epoch = 300\n",
        "optimizer = Adam(0.0006)\n",
        "mod.compile(loss=\"binary_crossentropy\",optimizer=optimizer, metrics=['accuracy'])\n",
        "history = mod.fit([X_train_data1,X_train_data2], Y_train_data, batch_size=batch_size, epochs=epoch,verbose=1, validation_data = ([X_val_data1,X_val_data2], Y_val_data))\n",
        "pred = mod.predict([X_train_data1,X_train_data2])\n",
        "tr_acc = compute_accuracy(pred, Y_train_data)\n",
        "pred = mod.predict([X_test_data1, X_test_data2])\n",
        "te_acc = compute_accuracy(pred, Y_test_data)\n",
        "print('* Accuracy on training set: %0.2f%%' % (100 * tr_acc))\n",
        "print('* Accuracy on test set: %0.2f%%' % (100 * te_acc))\n"
      ],
      "execution_count": 0,
      "outputs": [
        {
          "output_type": "stream",
          "text": [
            "/usr/local/lib/python3.6/dist-packages/ipykernel_launcher.py:44: UserWarning: Update your `Model` call to the Keras 2 API: `Model(outputs=Tensor(\"de..., inputs=[<tf.Tenso...)`\n"
          ],
          "name": "stderr"
        },
        {
          "output_type": "stream",
          "text": [
            "Train on 57525 samples, validate on 19140 samples\n",
            "Epoch 1/10\n",
            "57525/57525 [==============================] - 230s 4ms/step - loss: 0.6945 - acc: 0.4803 - val_loss: 0.6893 - val_acc: 0.6255\n",
            "Epoch 2/10\n",
            "57525/57525 [==============================] - 225s 4ms/step - loss: 0.6642 - acc: 0.7684 - val_loss: 0.6421 - val_acc: 0.6255\n",
            "Epoch 3/10\n",
            "57525/57525 [==============================] - 225s 4ms/step - loss: 0.5933 - acc: 0.7780 - val_loss: 0.6029 - val_acc: 0.6255\n",
            "Epoch 4/10\n",
            "57525/57525 [==============================] - 226s 4ms/step - loss: 0.4898 - acc: 0.7821 - val_loss: 0.5622 - val_acc: 0.6255\n",
            "Epoch 5/10\n",
            "57525/57525 [==============================] - 225s 4ms/step - loss: 0.4004 - acc: 0.7951 - val_loss: 0.5738 - val_acc: 0.6255\n",
            "Epoch 6/10\n",
            "57525/57525 [==============================] - 226s 4ms/step - loss: 0.3637 - acc: 0.8195 - val_loss: 0.5954 - val_acc: 0.6255\n",
            "Epoch 7/10\n",
            "57525/57525 [==============================] - 225s 4ms/step - loss: 0.3504 - acc: 0.8339 - val_loss: 0.6106 - val_acc: 0.6270\n",
            "Epoch 8/10\n",
            "57525/57525 [==============================] - 226s 4ms/step - loss: 0.3406 - acc: 0.8388 - val_loss: 0.6097 - val_acc: 0.6365\n",
            "Epoch 9/10\n",
            "57525/57525 [==============================] - 223s 4ms/step - loss: 0.3333 - acc: 0.8466 - val_loss: 0.6152 - val_acc: 0.6438\n",
            "Epoch 10/10\n",
            "57525/57525 [==============================] - 225s 4ms/step - loss: 0.3261 - acc: 0.8508 - val_loss: 0.6254 - val_acc: 0.6431\n",
            "* Accuracy on training set: 20.21%\n",
            "* Accuracy on test set: 18.31%\n"
          ],
          "name": "stdout"
        }
      ]
    }
  ]
}