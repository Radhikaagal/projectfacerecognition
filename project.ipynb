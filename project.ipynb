{
  "nbformat": 4,
  "nbformat_minor": 0,
  "metadata": {
    "colab": {
      "name": "project.ipynb",
      "version": "0.3.2",
      "provenance": [],
      "collapsed_sections": [],
      "toc_visible": true,
      "include_colab_link": true
    },
    "kernelspec": {
      "name": "python3",
      "display_name": "Python 3"
    }
  },
  "cells": [
    {
      "cell_type": "markdown",
      "metadata": {
        "id": "view-in-github",
        "colab_type": "text"
      },
      "source": [
        "<a href=\"https://colab.research.google.com/github/Radhikaagal/projectfacerecognition/blob/master/project.ipynb\" target=\"_parent\"><img src=\"https://colab.research.google.com/assets/colab-badge.svg\" alt=\"Open In Colab\"/></a>"
      ]
    },
    {
      "metadata": {
        "id": "ZNxBsfyH5Acl",
        "colab_type": "code",
        "colab": {}
      },
      "cell_type": "code",
      "source": [
        ""
      ],
      "execution_count": 0,
      "outputs": []
    },
    {
      "metadata": {
        "id": "VBzbiuL-5Q6W",
        "colab_type": "code",
        "outputId": "e364c7a9-3755-4957-ad92-9b8b8bcfa9e1",
        "colab": {
          "base_uri": "https://localhost:8080/",
          "height": 347
        }
      },
      "cell_type": "code",
      "source": [
        "import os\n",
        "import cv2\n",
        "import matplotlib.pyplot as plt\n",
        "\n",
        "def create_data():\n",
        "  x=[]\n",
        "  y=[]\n",
        "  cat_dist={}\n",
        "  imag_dats={}\n",
        "  Base_dir = os.path.dirname(os.path.abspath('__file__'))\n",
        "  data_dir = os.path.join(Base_dir,\"dataset\")\n",
        "  \n",
        "  for img_folder in os.listdir(data_dir):\n",
        "      image_file=os.path.join(data_dir,img_folder)\n",
        "      for file in os.listdir(image_file):\n",
        "          img_path=os.path.join(image_file,file)\n",
        "          img=cv2.imread(img_path,cv2.IMREAD_GRAYSCALE)\n",
        "          img=cv2.resize(img,(32,32))\n",
        "          \n",
        "          plt.imshow(img)\n",
        "create_data()"
      ],
      "execution_count": 0,
      "outputs": [
        {
          "output_type": "display_data",
          "data": {
            "image/png": "[encoded data removed]",
            "text/plain": [
              "<Figure size 576x396 with 1 Axes>"
            ]
          },
          "metadata": {
            "tags": []
          }
        }
      ]
    }
  ]
}